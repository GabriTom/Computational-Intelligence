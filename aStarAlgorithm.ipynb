{
 "cells": [
  {
   "cell_type": "markdown",
   "metadata": {},
   "source": [
    "Copyright **`(c)`** 2023 Giovanni Squillero `<giovanni.squillero@polito.it>`  \n",
    "[`https://github.com/squillero/computational-intelligence`](https://github.com/squillero/computational-intelligence)  \n",
    "Free for personal or classroom use; see [`LICENSE.md`](https://github.com/squillero/computational-intelligence/blob/master/LICENSE.md) for details.  "
   ]
  },
  {
   "cell_type": "markdown",
   "metadata": {},
   "source": [
    "A* algorithm made by Gabriele Tomatis (Polito, s313848) and Luca Sturaro (Polito, s320062)."
   ]
  },
  {
   "cell_type": "code",
   "execution_count": 1,
   "metadata": {},
   "outputs": [],
   "source": [
    "from random import random\n",
    "from functools import reduce\n",
    "from collections import namedtuple\n",
    "from queue import PriorityQueue, SimpleQueue, LifoQueue\n",
    "\n",
    "import numpy as np"
   ]
  },
  {
   "cell_type": "code",
   "execution_count": 2,
   "metadata": {},
   "outputs": [],
   "source": [
    "PROBLEM_SIZE = 5\n",
    "NUM_SETS = 10\n",
    "SETS = tuple(\n",
    "    np.array([random() < 0.3 for _ in range(PROBLEM_SIZE)])\n",
    "    for _ in range(NUM_SETS)\n",
    ")\n",
    "State = namedtuple('State', ['taken', 'not_taken'])"
   ]
  },
  {
   "cell_type": "code",
   "execution_count": 3,
   "metadata": {},
   "outputs": [],
   "source": [
    "def goal_check(state):\n",
    "    return np.all(reduce(\n",
    "        np.logical_or,\n",
    "        [SETS[i] for i in state.taken],\n",
    "        np.array([False for _ in range(PROBLEM_SIZE)]),\n",
    "    ))\n",
    "\n",
    "def distance(state):\n",
    "    return PROBLEM_SIZE - sum(\n",
    "        reduce(\n",
    "            np.logical_or,\n",
    "            [SETS[i] for i in state.taken],\n",
    "            np.array([False for _ in range(PROBLEM_SIZE)]),\n",
    "        ))\n",
    "\n",
    "#Measure of weight for a state in the priority queue\n",
    "def weight(set):\n",
    "    # f = g + h\n",
    "    total = [False] * PROBLEM_SIZE\n",
    "    g = len(set.taken) # Tile of the tree\n",
    "    \n",
    "    for s in set.taken:\n",
    "        for e in SETS[s]:\n",
    "            total = total or e\n",
    "        # print(total)\n",
    "    h = PROBLEM_SIZE - sum(total)   # Distance from solution (n of elements we still need)\n",
    "    \n",
    "    # print(g+h)\n",
    "    return g+h  # return f"
   ]
  },
  {
   "cell_type": "code",
   "execution_count": 4,
   "metadata": {},
   "outputs": [],
   "source": [
    "assert goal_check(\n",
    "    State(set(range(NUM_SETS)), set())\n",
    "), \"Probelm not solvable\""
   ]
  },
  {
   "cell_type": "code",
   "execution_count": 5,
   "metadata": {},
   "outputs": [],
   "source": [
    "# Special sets analysis\n",
    "def special_sets():\n",
    "    #Low trheshold makes this approach faster for small problems (high variability of values since we have less dimensionality)\n",
    "    threshold = NUM_SETS/100 * 29  # 30%\n",
    "    if threshold < 1:\n",
    "        threshold = 1\n",
    "    print(threshold)\n",
    "    criticalities = []\n",
    "    specials = []\n",
    "    normal = []\n",
    "    bestSol = None\n",
    "\n",
    "    #Searching for immediates solutions\n",
    "    res = [all(x) for x in SETS]\n",
    "    for i in range(len(res)):\n",
    "        if res[i]:\n",
    "            bestSol = SETS[i]\n",
    "            break\n",
    "\n",
    "    if bestSol == None:\n",
    "        # Reading on columns\n",
    "        for j in range(PROBLEM_SIZE):\n",
    "            #print()\n",
    "            critical_idx = []\n",
    "            for i in range(len(SETS)):\n",
    "                if SETS[i][j]:\n",
    "                    critical_idx.append(i)\n",
    "                \n",
    "            criticalities.append(len(critical_idx))\n",
    "            # if the number of possibly critical is less then a threshold so they're critical\n",
    "            if len(critical_idx) < threshold:\n",
    "                print(critical_idx)\n",
    "                #for e in critical_idx:\n",
    "                specials.append(e)\n",
    "            else:\n",
    "                for e in critical_idx:\n",
    "                    normal.append(e)\n",
    "        print(criticalities)\n",
    "        criticalities.sort()\n",
    "        print(criticalities[:10])\n",
    "        print(\"SPECIALS\")\n",
    "        special_set = set(specials)\n",
    "        print(len(special_set))\n",
    "        print(special_set)\n",
    "        #print(\"NOT SO SPECIALS\")\n",
    "        normal_set = set(normal)\n",
    "        normal_set -= special_set\n",
    "    return bestSol, special_set, normal_set"
   ]
  },
  {
   "cell_type": "code",
   "execution_count": 6,
   "metadata": {},
   "outputs": [
    {
     "name": "stdout",
     "output_type": "stream",
     "text": [
      "2.9000000000000004\n",
      "[4, 3, 3, 4, 4]\n",
      "[3, 3, 4, 4, 4]\n",
      "SPECIALS\n",
      "0\n",
      "set()\n",
      "None\n",
      "set()\n",
      "{0, 1, 2, 3, 4, 5, 6, 8, 9}\n"
     ]
    }
   ],
   "source": [
    "best, sp_set, nm_set = special_sets()\n",
    "print(best)\n",
    "print(sp_set)\n",
    "print(nm_set)"
   ]
  },
  {
   "cell_type": "code",
   "execution_count": 7,
   "metadata": {},
   "outputs": [
    {
     "name": "stdout",
     "output_type": "stream",
     "text": [
      "State(taken=set(), not_taken={0, 1, 2, 3, 4, 5, 6, 8, 9})\n",
      "Solved in 13 steps (2 tiles)\n"
     ]
    }
   ],
   "source": [
    "frontier = PriorityQueue()\n",
    "# frontier = SimpleQueue()\n",
    "state = State(set(), set(sp_set.union(nm_set)))\n",
    "print(state)\n",
    "# A* algorithm implemented with a priority queue and a weight function\n",
    "frontier.put((weight(state), state))\n",
    "\n",
    "counter = 0\n",
    "_, current_state = frontier.get()\n",
    "while not goal_check(current_state):\n",
    "    counter += 1\n",
    "    for action in current_state[1]:\n",
    "        new_state = State(\n",
    "            current_state.taken ^ {action},\n",
    "            current_state.not_taken ^ {action},\n",
    "        )\n",
    "        frontier.put((weight(new_state), new_state))\n",
    "    _, current_state = frontier.get()\n",
    "\n",
    "print(\n",
    "    f\"Solved in {counter:,} steps ({len(current_state.taken)} tiles)\"\n",
    ")"
   ]
  },
  {
   "cell_type": "code",
   "execution_count": 8,
   "metadata": {},
   "outputs": [
    {
     "data": {
      "text/plain": [
       "State(taken={1, 9}, not_taken={0, 2, 3, 4, 5, 6, 8})"
      ]
     },
     "execution_count": 8,
     "metadata": {},
     "output_type": "execute_result"
    }
   ],
   "source": [
    "current_state"
   ]
  }
 ],
 "metadata": {
  "kernelspec": {
   "display_name": "ci-P-7LqQ3C-py3.11",
   "language": "python",
   "name": "python3"
  },
  "language_info": {
   "codemirror_mode": {
    "name": "ipython",
    "version": 3
   },
   "file_extension": ".py",
   "mimetype": "text/x-python",
   "name": "python",
   "nbconvert_exporter": "python",
   "pygments_lexer": "ipython3",
   "version": "3.12.0"
  }
 },
 "nbformat": 4,
 "nbformat_minor": 2
}
