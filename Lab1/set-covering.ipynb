{
 "cells": [
  {
   "cell_type": "markdown",
   "metadata": {},
   "source": [
    "Copyright **`(c)`** 2023 Giovanni Squillero `<giovanni.squillero@polito.it>`  \n",
    "[`https://github.com/squillero/computational-intelligence`](https://github.com/squillero/computational-intelligence)  \n",
    "Free for personal or classroom use; see [`LICENSE.md`](https://github.com/squillero/computational-intelligence/blob/master/LICENSE.md) for details.  "
   ]
  },
  {
   "cell_type": "markdown",
   "metadata": {},
   "source": [
    "A* algorithm made by Gabriele Tomatis (Polito, s313848) and Luca Sturaro (Polito, s320062)"
   ]
  },
  {
   "cell_type": "code",
   "execution_count": 7,
   "metadata": {},
   "outputs": [],
   "source": [
    "from random import random\n",
    "from functools import reduce\n",
    "from collections import namedtuple\n",
    "from queue import PriorityQueue, SimpleQueue, LifoQueue\n",
    "\n",
    "import numpy as np"
   ]
  },
  {
   "cell_type": "code",
   "execution_count": 8,
   "metadata": {},
   "outputs": [],
   "source": [
    "PROBLEM_SIZE = 5\n",
    "NUM_SETS = 10\n",
    "SETS = tuple(\n",
    "    np.array([random() < 0.3 for _ in range(PROBLEM_SIZE)])\n",
    "    for _ in range(NUM_SETS)\n",
    ")\n",
    "State = namedtuple('State', ['taken', 'not_taken'])"
   ]
  },
  {
   "cell_type": "code",
   "execution_count": 9,
   "metadata": {},
   "outputs": [],
   "source": [
    "def goal_check(state):\n",
    "    return np.all(reduce(\n",
    "        np.logical_or,\n",
    "        [SETS[i] for i in state.taken],\n",
    "        np.array([False for _ in range(PROBLEM_SIZE)]),\n",
    "    ))\n",
    "\n",
    "def distance(state):\n",
    "    return PROBLEM_SIZE - sum(\n",
    "        reduce(\n",
    "            np.logical_or,\n",
    "            [SETS[i] for i in state.taken],\n",
    "            np.array([False for _ in range(PROBLEM_SIZE)]),\n",
    "        ))\n",
    "\n",
    "#Measure of weight for a state in the priority queue\n",
    "def weight(set):\n",
    "    # f = g + h\n",
    "    total = [False] * PROBLEM_SIZE\n",
    "    g = len(set.taken)\n",
    "    \n",
    "    for s in set.taken:\n",
    "        for e in SETS[s]:\n",
    "            total = total or e\n",
    "        # print(total)\n",
    "    h = PROBLEM_SIZE - sum(total)   # Distance from solution (n of elements we still need)\n",
    "    \n",
    "    # print(g+h)\n",
    "    return g+h  # return f"
   ]
  },
  {
   "cell_type": "code",
   "execution_count": 10,
   "metadata": {},
   "outputs": [],
   "source": [
    "assert goal_check(\n",
    "    State(set(range(NUM_SETS)), set())\n",
    "), \"Probelm not solvable\""
   ]
  },
  {
   "cell_type": "code",
   "execution_count": 11,
   "metadata": {},
   "outputs": [
    {
     "name": "stdout",
     "output_type": "stream",
     "text": [
      "State(taken=set(), not_taken={0, 1, 2, 3, 4, 5, 6, 7, 8, 9})\n",
      "Solved in 16 steps (2 tiles)\n"
     ]
    }
   ],
   "source": [
    "frontier = PriorityQueue()\n",
    "# frontier = SimpleQueue()\n",
    "state = State(set(), set(range(NUM_SETS)))\n",
    "\n",
    "# A* algorithm implemented with a priority queue and a weight function\n",
    "frontier.put((weight(state), state))\n",
    "\n",
    "counter = 0\n",
    "_, current_state = frontier.get()\n",
    "while not goal_check(current_state):\n",
    "    counter += 1\n",
    "    for action in current_state[1]:\n",
    "        new_state = State(\n",
    "            current_state.taken ^ {action},\n",
    "            current_state.not_taken ^ {action},\n",
    "        )\n",
    "        frontier.put((weight(new_state), new_state))\n",
    "    _, current_state = frontier.get()\n",
    "\n",
    "print(\n",
    "    f\"Solved in {counter:,} steps ({len(current_state.taken)} tiles)\"\n",
    ")"
   ]
  },
  {
   "cell_type": "code",
   "execution_count": 12,
   "metadata": {},
   "outputs": [
    {
     "data": {
      "text/plain": [
       "State(taken={8, 9}, not_taken={0, 1, 2, 3, 4, 5, 6, 7})"
      ]
     },
     "execution_count": 12,
     "metadata": {},
     "output_type": "execute_result"
    }
   ],
   "source": [
    "current_state"
   ]
  }
 ],
 "metadata": {
  "kernelspec": {
   "display_name": "ci-P-7LqQ3C-py3.11",
   "language": "python",
   "name": "python3"
  },
  "language_info": {
   "codemirror_mode": {
    "name": "ipython",
    "version": 3
   },
   "file_extension": ".py",
   "mimetype": "text/x-python",
   "name": "python",
   "nbconvert_exporter": "python",
   "pygments_lexer": "ipython3",
   "version": "3.12.0"
  }
 },
 "nbformat": 4,
 "nbformat_minor": 2
}
