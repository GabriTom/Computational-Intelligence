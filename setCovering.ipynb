{
 "cells": [
  {
   "cell_type": "code",
   "execution_count": 63,
   "metadata": {},
   "outputs": [],
   "source": [
    "from random import random\n",
    "from functools import reduce \n",
    "from queue import PriorityQueue, SimpleQueue, LifoQueue\n",
    "\n",
    "import numpy as np"
   ]
  },
  {
   "cell_type": "code",
   "execution_count": 64,
   "metadata": {},
   "outputs": [],
   "source": [
    "PROBLEM_SIZE = 5   #Points to cover\n",
    "NUM_SETS = 10      #Number of tiles\n",
    "SETS = tuple(np.array([random() < .2 for _ in range(PROBLEM_SIZE)]) for _ in range(NUM_SETS))"
   ]
  },
  {
   "cell_type": "code",
   "execution_count": 65,
   "metadata": {},
   "outputs": [],
   "source": [
    "def goal_check(state):\n",
    "    return np.all(reduce(np.logical_or, [SETS[i] for i in state[0]], np.array([False for _ in range(PROBLEM_SIZE)])))\n",
    "\n",
    "def distance(state):\n",
    "    return PROBLEM_SIZE - sum(\n",
    "        reduce(\n",
    "            np.logical_or, \n",
    "            [SETS[i] for i in state[0]], \n",
    "            np.array([False for _ in range(PROBLEM_SIZE)])\n",
    "        )\n",
    "            )"
   ]
  },
  {
   "cell_type": "code",
   "execution_count": 66,
   "metadata": {},
   "outputs": [
    {
     "ename": "AssertionError",
     "evalue": "Problem not solvable",
     "output_type": "error",
     "traceback": [
      "\u001b[1;31m---------------------------------------------------------------------------\u001b[0m",
      "\u001b[1;31mAssertionError\u001b[0m                            Traceback (most recent call last)",
      "\u001b[1;32mc:\\Users\\gabry\\tmp\\ci23\\setCovering.ipynb Cell 4\u001b[0m line \u001b[0;36m1\n\u001b[1;32m----> <a href='vscode-notebook-cell:/c%3A/Users/gabry/tmp/ci23/setCovering.ipynb#W3sZmlsZQ%3D%3D?line=0'>1</a>\u001b[0m \u001b[39massert\u001b[39;00m goal_check((\u001b[39mset\u001b[39m(\u001b[39mrange\u001b[39m(NUM_SETS)), \u001b[39mset\u001b[39m())), \u001b[39m\"\u001b[39m\u001b[39mProblem not solvable\u001b[39m\u001b[39m\"\u001b[39m\n",
      "\u001b[1;31mAssertionError\u001b[0m: Problem not solvable"
     ]
    }
   ],
   "source": [
    "assert goal_check((set(range(NUM_SETS)), set())), \"Problem not solvable\""
   ]
  },
  {
   "cell_type": "code",
   "execution_count": null,
   "metadata": {},
   "outputs": [
    {
     "name": "stdout",
     "output_type": "stream",
     "text": [
      "5\n"
     ]
    },
    {
     "ename": "IndexError",
     "evalue": "invalid index to scalar variable.",
     "output_type": "error",
     "traceback": [
      "\u001b[1;31m---------------------------------------------------------------------------\u001b[0m",
      "\u001b[1;31mIndexError\u001b[0m                                Traceback (most recent call last)",
      "\u001b[1;32mc:\\Users\\gabry\\tmp\\ci23\\setCovering.ipynb Cell 5\u001b[0m line \u001b[0;36m9\n\u001b[0;32m      <a href='vscode-notebook-cell:/c%3A/Users/gabry/tmp/ci23/setCovering.ipynb#W4sZmlsZQ%3D%3D?line=6'>7</a>\u001b[0m current_state \u001b[39m=\u001b[39m frontier\u001b[39m.\u001b[39mget()\n\u001b[0;32m      <a href='vscode-notebook-cell:/c%3A/Users/gabry/tmp/ci23/setCovering.ipynb#W4sZmlsZQ%3D%3D?line=7'>8</a>\u001b[0m \u001b[39mprint\u001b[39m(current_state)\n\u001b[1;32m----> <a href='vscode-notebook-cell:/c%3A/Users/gabry/tmp/ci23/setCovering.ipynb#W4sZmlsZQ%3D%3D?line=8'>9</a>\u001b[0m \u001b[39mwhile\u001b[39;00m \u001b[39mnot\u001b[39;00m goal_check(current_state):\n\u001b[0;32m     <a href='vscode-notebook-cell:/c%3A/Users/gabry/tmp/ci23/setCovering.ipynb#W4sZmlsZQ%3D%3D?line=9'>10</a>\u001b[0m     cnt \u001b[39m+\u001b[39m\u001b[39m=\u001b[39m \u001b[39m1\u001b[39m\n\u001b[0;32m     <a href='vscode-notebook-cell:/c%3A/Users/gabry/tmp/ci23/setCovering.ipynb#W4sZmlsZQ%3D%3D?line=10'>11</a>\u001b[0m     \u001b[39mfor\u001b[39;00m action \u001b[39min\u001b[39;00m current_state[\u001b[39m1\u001b[39m]:\n\u001b[0;32m     <a href='vscode-notebook-cell:/c%3A/Users/gabry/tmp/ci23/setCovering.ipynb#W4sZmlsZQ%3D%3D?line=11'>12</a>\u001b[0m         \u001b[39m#0 taken, 1 NOT taken\u001b[39;00m\n",
      "\u001b[1;32mc:\\Users\\gabry\\tmp\\ci23\\setCovering.ipynb Cell 5\u001b[0m line \u001b[0;36m2\n\u001b[0;32m      <a href='vscode-notebook-cell:/c%3A/Users/gabry/tmp/ci23/setCovering.ipynb#W4sZmlsZQ%3D%3D?line=0'>1</a>\u001b[0m \u001b[39mdef\u001b[39;00m \u001b[39mgoal_check\u001b[39m(state):\n\u001b[1;32m----> <a href='vscode-notebook-cell:/c%3A/Users/gabry/tmp/ci23/setCovering.ipynb#W4sZmlsZQ%3D%3D?line=1'>2</a>\u001b[0m     \u001b[39mreturn\u001b[39;00m np\u001b[39m.\u001b[39mall(reduce(np\u001b[39m.\u001b[39mlogical_or, [SETS[i] \u001b[39mfor\u001b[39;00m i \u001b[39min\u001b[39;00m state[\u001b[39m0\u001b[39;49m]], np\u001b[39m.\u001b[39marray([\u001b[39mFalse\u001b[39;00m \u001b[39mfor\u001b[39;00m _ \u001b[39min\u001b[39;00m \u001b[39mrange\u001b[39m(PROBLEM_SIZE)])))\n",
      "\u001b[1;31mIndexError\u001b[0m: invalid index to scalar variable."
     ]
    }
   ],
   "source": [
    "frontier = PriorityQueue ()\n",
    "#With simpleQueue you have a breadth approach\n",
    "#With priorityQueue you have a random approach\n",
    "state = (set(), set(range(NUM_SETS)))\n",
    "frontier.put(distance(state), state )\n",
    "\n",
    "cnt = 0\n",
    "current_state = frontier.get()\n",
    "print(current_state)\n",
    "while not goal_check(current_state):\n",
    "    cnt += 1\n",
    "    for action in current_state[1]:\n",
    "        #0 taken, 1 NOT taken\n",
    "        new_state = (current_state[0] ^ {action}, current_state[1] ^ {action})\n",
    "        frontier.put(distance(new_state), new_state)\n",
    "    current_state = frontier.get()\n",
    "\n",
    "print(f\"Solved in {cnt} steps\")"
   ]
  },
  {
   "cell_type": "code",
   "execution_count": null,
   "metadata": {},
   "outputs": [
    {
     "data": {
      "text/plain": [
       "0"
      ]
     },
     "execution_count": 6,
     "metadata": {},
     "output_type": "execute_result"
    }
   ],
   "source": [
    "current_state"
   ]
  },
  {
   "cell_type": "code",
   "execution_count": null,
   "metadata": {},
   "outputs": [
    {
     "data": {
      "text/plain": [
       "True"
      ]
     },
     "execution_count": 7,
     "metadata": {},
     "output_type": "execute_result"
    }
   ],
   "source": [
    "goal_check(current_state)"
   ]
  }
 ],
 "metadata": {
  "kernelspec": {
   "display_name": "venv",
   "language": "python",
   "name": "python3"
  },
  "language_info": {
   "codemirror_mode": {
    "name": "ipython",
    "version": 3
   },
   "file_extension": ".py",
   "mimetype": "text/x-python",
   "name": "python",
   "nbconvert_exporter": "python",
   "pygments_lexer": "ipython3",
   "version": "3.12.0"
  }
 },
 "nbformat": 4,
 "nbformat_minor": 2
}
